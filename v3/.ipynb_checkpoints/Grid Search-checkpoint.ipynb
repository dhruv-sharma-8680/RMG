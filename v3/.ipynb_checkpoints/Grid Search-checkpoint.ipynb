{
 "cells": [
  {
   "cell_type": "code",
   "execution_count": null,
   "metadata": {
    "ExecuteTime": {
     "end_time": "2020-07-28T11:24:45.705200Z",
     "start_time": "2020-07-28T11:23:27.623756Z"
    }
   },
   "outputs": [],
   "source": []
  },
  {
   "cell_type": "code",
   "execution_count": 1,
   "metadata": {
    "ExecuteTime": {
     "end_time": "2020-08-17T10:14:30.332051Z",
     "start_time": "2020-08-17T10:14:27.922627Z"
    }
   },
   "outputs": [],
   "source": [
    "import numpy as np\n",
    "import pandas as pd\n",
    "import implicit\n",
    "import random \n",
    "from sklearn.metrics import f1_score, roc_curve, roc_auc_score, auc\n",
    "import scipy.sparse as sparse\n",
    "import matplotlib.pyplot as plt\n",
    "import seaborn as sns\n",
    "from tqdm import tqdm\n",
    "import itertools\n",
    "import time"
   ]
  },
  {
   "cell_type": "code",
   "execution_count": 2,
   "metadata": {
    "ExecuteTime": {
     "end_time": "2020-08-17T10:15:08.527304Z",
     "start_time": "2020-08-17T10:14:30.339630Z"
    }
   },
   "outputs": [],
   "source": [
    "website_url = '../Dataset/Online Retail.xlsx'\n",
    "retail_data = pd.read_excel(website_url)"
   ]
  },
  {
   "cell_type": "code",
   "execution_count": 3,
   "metadata": {
    "ExecuteTime": {
     "end_time": "2020-08-17T10:15:08.616860Z",
     "start_time": "2020-08-17T10:15:08.562847Z"
    }
   },
   "outputs": [],
   "source": [
    "cleaned_retail = retail_data.loc[pd.isnull(retail_data.CustomerID) == False]"
   ]
  },
  {
   "cell_type": "code",
   "execution_count": 4,
   "metadata": {
    "ExecuteTime": {
     "end_time": "2020-08-17T10:15:08.675464Z",
     "start_time": "2020-08-17T10:15:08.649804Z"
    }
   },
   "outputs": [
    {
     "data": {
      "text/html": [
       "<div>\n",
       "<style scoped>\n",
       "    .dataframe tbody tr th:only-of-type {\n",
       "        vertical-align: middle;\n",
       "    }\n",
       "\n",
       "    .dataframe tbody tr th {\n",
       "        vertical-align: top;\n",
       "    }\n",
       "\n",
       "    .dataframe thead th {\n",
       "        text-align: right;\n",
       "    }\n",
       "</style>\n",
       "<table border=\"1\" class=\"dataframe\">\n",
       "  <thead>\n",
       "    <tr style=\"text-align: right;\">\n",
       "      <th></th>\n",
       "      <th>InvoiceNo</th>\n",
       "      <th>StockCode</th>\n",
       "      <th>Description</th>\n",
       "      <th>Quantity</th>\n",
       "      <th>InvoiceDate</th>\n",
       "      <th>UnitPrice</th>\n",
       "      <th>CustomerID</th>\n",
       "      <th>Country</th>\n",
       "    </tr>\n",
       "  </thead>\n",
       "  <tbody>\n",
       "    <tr>\n",
       "      <th>0</th>\n",
       "      <td>536365</td>\n",
       "      <td>85123A</td>\n",
       "      <td>WHITE HANGING HEART T-LIGHT HOLDER</td>\n",
       "      <td>6</td>\n",
       "      <td>2010-12-01 08:26:00</td>\n",
       "      <td>2.55</td>\n",
       "      <td>17850.0</td>\n",
       "      <td>United Kingdom</td>\n",
       "    </tr>\n",
       "    <tr>\n",
       "      <th>1</th>\n",
       "      <td>536365</td>\n",
       "      <td>71053</td>\n",
       "      <td>WHITE METAL LANTERN</td>\n",
       "      <td>6</td>\n",
       "      <td>2010-12-01 08:26:00</td>\n",
       "      <td>3.39</td>\n",
       "      <td>17850.0</td>\n",
       "      <td>United Kingdom</td>\n",
       "    </tr>\n",
       "    <tr>\n",
       "      <th>2</th>\n",
       "      <td>536365</td>\n",
       "      <td>84406B</td>\n",
       "      <td>CREAM CUPID HEARTS COAT HANGER</td>\n",
       "      <td>8</td>\n",
       "      <td>2010-12-01 08:26:00</td>\n",
       "      <td>2.75</td>\n",
       "      <td>17850.0</td>\n",
       "      <td>United Kingdom</td>\n",
       "    </tr>\n",
       "    <tr>\n",
       "      <th>3</th>\n",
       "      <td>536365</td>\n",
       "      <td>84029G</td>\n",
       "      <td>KNITTED UNION FLAG HOT WATER BOTTLE</td>\n",
       "      <td>6</td>\n",
       "      <td>2010-12-01 08:26:00</td>\n",
       "      <td>3.39</td>\n",
       "      <td>17850.0</td>\n",
       "      <td>United Kingdom</td>\n",
       "    </tr>\n",
       "    <tr>\n",
       "      <th>4</th>\n",
       "      <td>536365</td>\n",
       "      <td>84029E</td>\n",
       "      <td>RED WOOLLY HOTTIE WHITE HEART.</td>\n",
       "      <td>6</td>\n",
       "      <td>2010-12-01 08:26:00</td>\n",
       "      <td>3.39</td>\n",
       "      <td>17850.0</td>\n",
       "      <td>United Kingdom</td>\n",
       "    </tr>\n",
       "  </tbody>\n",
       "</table>\n",
       "</div>"
      ],
      "text/plain": [
       "  InvoiceNo StockCode                          Description  Quantity  \\\n",
       "0    536365    85123A   WHITE HANGING HEART T-LIGHT HOLDER         6   \n",
       "1    536365     71053                  WHITE METAL LANTERN         6   \n",
       "2    536365    84406B       CREAM CUPID HEARTS COAT HANGER         8   \n",
       "3    536365    84029G  KNITTED UNION FLAG HOT WATER BOTTLE         6   \n",
       "4    536365    84029E       RED WOOLLY HOTTIE WHITE HEART.         6   \n",
       "\n",
       "          InvoiceDate  UnitPrice  CustomerID         Country  \n",
       "0 2010-12-01 08:26:00       2.55     17850.0  United Kingdom  \n",
       "1 2010-12-01 08:26:00       3.39     17850.0  United Kingdom  \n",
       "2 2010-12-01 08:26:00       2.75     17850.0  United Kingdom  \n",
       "3 2010-12-01 08:26:00       3.39     17850.0  United Kingdom  \n",
       "4 2010-12-01 08:26:00       3.39     17850.0  United Kingdom  "
      ]
     },
     "execution_count": 4,
     "metadata": {},
     "output_type": "execute_result"
    }
   ],
   "source": [
    "cleaned_retail.head()"
   ]
  },
  {
   "cell_type": "code",
   "execution_count": 5,
   "metadata": {
    "ExecuteTime": {
     "end_time": "2020-08-17T10:15:08.886321Z",
     "start_time": "2020-08-17T10:15:08.727253Z"
    }
   },
   "outputs": [],
   "source": [
    "class Recommendation:\n",
    "    def __init__(self, input_dataframe, feature_columns={\"item_column\":None, \n",
    "                                                         \"user_column\": None, \n",
    "                                                         \"score_column\":None,\n",
    "                                                         \"item_description_column\":None}, isPreprocess=False, isSum=True):\n",
    "        self.feature_columns = feature_columns\n",
    "        self.df_columns = list(self.feature_columns.values())\n",
    "        self.input_dataframe = input_dataframe[self.df_columns]\n",
    "        self.isPreprocess = isPreprocess\n",
    "        self.isSum=isSum\n",
    "        if self.isPreprocess:\n",
    "            self.preprocess(isSum=isSum)\n",
    "        if len(self.feature_columns) == 4:\n",
    "            self.item_lookup = self.input_dataframe[[self.feature_columns[\"item_column\"], self.feature_columns[\"item_description_column\"]]].drop_duplicates()\n",
    "    \n",
    "    def preprocess(self, isSum=True):\n",
    "        if isSum:\n",
    "            cleaned_df = self.input_dataframe.groupby([self.feature_columns['user_column'], \n",
    "                                                   self.feature_columns['item_column']]).sum().reset_index()\n",
    "        else:\n",
    "            cleaned_df = self.input_dataframe.groupby([self.feature_columns['user_column'], \n",
    "                                                   self.feature_columns['item_column']]).mean().reset_index()\n",
    "            \n",
    "        cleaned_df[self.feature_columns['score_column']].loc[cleaned_df[self.feature_columns['score_column']] == 0] = 1\n",
    "        grouped_purchased = cleaned_df.query(self.feature_columns['score_column']+' > 0')\n",
    "        \n",
    "        # Creating the sparse matrix\n",
    "\n",
    "        self.user = list(np.sort(grouped_purchased[self.feature_columns['user_column']].unique())) # Get our unique customers\n",
    "        self.item = list(grouped_purchased[self.feature_columns['item_column']].unique()) # Get our unique products that were purchased\n",
    "        self.score = list(grouped_purchased[self.feature_columns['score_column']]) # All of our purchases\n",
    "\n",
    "\n",
    "        # Get the associated row & column indices\n",
    "        self.row_indices = grouped_purchased[self.feature_columns['user_column']].astype('category', categories = self.user).cat.codes \n",
    "        self.col_indices = grouped_purchased[self.feature_columns['item_column']].astype('category', categories = self.item).cat.codes \n",
    "\n",
    "        self.sparse_matrix = sparse.csr_matrix((self.score, (self.row_indices, self.col_indices)), shape=(len(self.user), len(self.item)))\n",
    "        self.isPreprocess=True\n",
    "    \n",
    "    def describe_sparse_matrix(self, isSum=True, verbose=1):\n",
    "        if self.isPreprocess == False:\n",
    "            self.preprocess(isSum=isSum)\n",
    "        self.matrix_size = self.sparse_matrix.shape[0]*self.sparse_matrix.shape[1] \n",
    "        num_purchases = len(self.sparse_matrix.nonzero()[0]) \n",
    "        self.sparsity = 100*(1 - (num_purchases/self.matrix_size))\n",
    "        if verbose==1:\n",
    "            print(\"Maximum possible sparsity for collaborative filtering approach is 99.5%.\")\n",
    "            print()\n",
    "            if self.sparsity < 99.5:\n",
    "                print(\"Sparsity is ~\"+str(round(self.sparsity,2))+\", we can expect decent results.\")\n",
    "            else:\n",
    "                print(\"Sparsity is \"+str(round(self.sparsity,2)) + \"%, Try to reduce as per the standard\")\n",
    "    \n",
    "    def create_split_data(self, score, pct_test = 0.2):\n",
    "        \n",
    "        self.test_set = score.copy() \n",
    "        self.test_set[self.test_set != 0] = 1 \n",
    "\n",
    "        self.training_set = score.copy() \n",
    "\n",
    "        nonzero_inds = self.training_set.nonzero() \n",
    "        nonzero_pairs = list(zip(nonzero_inds[0], nonzero_inds[1])) \n",
    "\n",
    "        random.seed(0) \n",
    "\n",
    "        num_samples = int(np.ceil(pct_test*len(nonzero_pairs))) \n",
    "        samples = random.sample(nonzero_pairs, num_samples) \n",
    "\n",
    "        self.user_inds = [index[0] for index in samples] \n",
    "        self.item_inds = [index[1] for index in samples] \n",
    "\n",
    "        self.training_set[self.user_inds, self.item_inds] = 0 \n",
    "        self.training_set.eliminate_zeros() \n",
    "\n",
    "        return self.training_set, self.test_set, self.user_inds\n",
    "    \n",
    "    def train(self, factors, alpha, regularization=0.1, iterations=50, num_threads=1, isEvaluate=False, Verbose=0):\n",
    "        show_progress=False\n",
    "        self.describe_sparse_matrix(isSum=self.isSum, verbose=Verbose)\n",
    "        train_set, _, _ = self.create_split_data(self.sparse_matrix)\n",
    "        self.als = implicit.als.AlternatingLeastSquares(factors=factors, \n",
    "                                     regularization = regularization, \n",
    "                                     iterations = iterations,\n",
    "                                    num_threads=num_threads)\n",
    "        if Verbose==1:\n",
    "            show_progress=True\n",
    "        self.als.fit(train_set.transpose() * alpha, show_progress=show_progress)\n",
    "        if Verbose==1:\n",
    "            print(\"Training completed...\")\n",
    "        if isEvaluate:\n",
    "            _f1_score, _roc_auc_score = self.get_f1_score_v2()\n",
    "            if Verbose==1:\n",
    "                print(\" F1 Score: \",_f1_score, \" AUC ROC score: \", _roc_auc_score)\n",
    "            return _f1_score, _roc_auc_score\n",
    "    \n",
    "    def get_recommendation(self, user_id, is_lookup_items=False, N=10):\n",
    "        lookup_flag = False\n",
    "        if is_lookup_items :\n",
    "            if len(self.feature_columns) == 4:\n",
    "                lookup_flag=True\n",
    "            else:\n",
    "                print(\"Instantiate object with four columns. See the docs for item lookups.\")\n",
    "            \n",
    "        idx = np.where(np.array(self.user)==int(user_id))[0][0]\n",
    "        recommendations = self.als.recommend(idx, self.training_set, N)\n",
    "        recommendations_list = []\n",
    "        score_list = []\n",
    "        item_lookup_list = []\n",
    "        for name_id, score in recommendations:\n",
    "            recommendations_list.append(self.item[name_id])\n",
    "            score_list.append(score)\n",
    "            if lookup_flag:\n",
    "                item_lookup_list.append(self.item_lookup[self.feature_columns[\"item_description_column\"]].loc[self.item[name_id] == self.item_lookup[self.feature_columns[\"item_column\"]]].iloc[0])\n",
    "        return recommendations_list, score_list, item_lookup_list\n",
    "    \n",
    "    def get_similar_items(self, item_id, is_lookup_items=False, N=10):\n",
    "        lookup_flag = False\n",
    "        if is_lookup_items :\n",
    "            if len(self.feature_columns) == 4:\n",
    "                lookup_flag=True\n",
    "            else:\n",
    "                print(\"Instantiate object with four columns. See the docs for item lookups.\")\n",
    "        idx = np.where(np.array(self.item)==str(item_id))[0][0]\n",
    "        items = self.als.similar_items(idx, N)\n",
    "        item_list = []\n",
    "        score_list = []\n",
    "        item_lookup_list = []\n",
    "        for name_id, score in items:\n",
    "            item_list.append(self.item[name_id])\n",
    "            score_list.append(score)\n",
    "            if lookup_flag:\n",
    "                item_lookup_list.append(self.item_lookup[self.feature_columns[\"item_description_column\"]].loc[self.item[name_id] == self.item_lookup[self.feature_columns[\"item_column\"]]].iloc[0])\n",
    "        return item_list, score_list, item_lookup_list\n",
    "    \n",
    "    def calc_f1_score(self, predictions, test):\n",
    "        score = f1_score(test, predictions, average=\"weighted\")\n",
    "        return score\n",
    "    \n",
    "    def get_f1_score(self):\n",
    "        f1_score_list = []\n",
    "        roc_auc_score_list =[]\n",
    "        for user in tqdm(self.user_inds):\n",
    "            train_rows = self.training_set[user].toarray().reshape(-1)\n",
    "            zero_idxs = np.where(train_rows == 0)\n",
    "\n",
    "            #get prediction based on user/item sparse matrix\n",
    "            user_vec = self.als.user_factors[user,:]\n",
    "            pred = user_vec.dot(self.als.item_factors.T)[zero_idxs]\n",
    "            pred_bin = np.ones(shape=pred.shape)\n",
    "            pred_bin[np.where(pred<0.5)] = 0\n",
    "\n",
    "            true_pred = self.test_set[user, :].toarray()[0,zero_idxs].reshape(-1)\n",
    "            f1_score_list.append(f1_score(true_pred, pred_bin))\n",
    "            roc_auc_score_list.append(roc_auc_score(true_pred, pred_bin))\n",
    "        return np.mean(f1_score_list), np.mean(roc_auc_score_list)\n",
    "    \n",
    "    def get_f1_score_v2(self):\n",
    "        zro_idx = np.where(rec.training_set[rec.user_inds].toarray() == 0)\n",
    "\n",
    "        pred = rec.als.user_factors[rec.user_inds].dot(rec.als.item_factors.T)[zro_idx]\n",
    "        pred_bin = np.ones(shape=pred.shape)\n",
    "        pred_bin[np.where(pred<0.5)] = 0\n",
    "\n",
    "        test_pred = rec.test_set[rec.user_inds].toarray()[zro_idx]\n",
    "\n",
    "        return f1_score(test_pred, pred_bin), roc_auc_score(pred_bin, test_pred)\n",
    "        \n",
    "    def grid_search(self, factors_list, alpha_list, regularisation_list, iter_list, isDisplayChart=True):\n",
    "        start_time = time.time()\n",
    "        self.combination_dict = {\n",
    "                \"factors\" : factors_list,\n",
    "                \"alpha\" : alpha_list,\n",
    "                \"regularisation\" : regularisation_list,\n",
    "                \"iterations\" : iter_list,\n",
    "            }\n",
    "        self.describe_sparse_matrix(isSum=self.isSum)\n",
    "        all_combinations = list(itertools.product(*list(self.combination_dict.values())))\n",
    "        score_list=[]\n",
    "        for idx, values in enumerate(all_combinations):\n",
    "            start_epoch_time=time.time()\n",
    "            _f1_score, _roc_auc_score=self.train( factors=values[0], \n",
    "                                                   alpha=values[1], \n",
    "                                                   regularization=values[2], \n",
    "                                                   iterations=values[3], \n",
    "                                                   num_threads=1, \n",
    "                                                   isEvaluate=True, \n",
    "                                                   Verbose=0)\n",
    "            end_epoch_time=time.time()\n",
    "            print(\"Steps: \",idx+1,\"/\",len(all_combinations),\" | Combination: \", values, \" | Execution time: \", self.calculate_execution_time(end_epoch_time - start_epoch_time))\n",
    "            print(\"F1 Score: \", _f1_score, \" AUC Score: \", _roc_auc_score)\n",
    "            print()\n",
    "            score_list.append(_f1_score)\n",
    "            \n",
    "        if isDisplayChart:\n",
    "            plt.figure(figsize=(15, 7))\n",
    "            sns.barplot([\"comb_\"+str(v) for v in range(len(score_list))], score_list)\n",
    "            plt.title(\"Grid Search \")\n",
    "            plt.xlabel(\"Combinations\")\n",
    "            _=plt.ylabel(\"F1 Score\")\n",
    "        result = all_combinations[score_list.index(max(score_list))]\n",
    "        best_combinations_dict={\n",
    "                \"factors\" : result[0],\n",
    "                \"alpha\" : result[1],\n",
    "                \"regularisation\" : result[2],\n",
    "                \"iterations\" : result[3],\n",
    "            }\n",
    "        end_time = time.time()\n",
    "        print(\"Execution time: \",self.calculate_execution_time(end_time-start_time))\n",
    "        return best_combinations_dict\n",
    "    \n",
    "    def calculate_execution_time(self, seconds): \n",
    "        seconds = seconds % (24 * 3600) \n",
    "        hour = seconds // 3600\n",
    "        seconds %= 3600\n",
    "        minutes = seconds // 60\n",
    "        seconds %= 60\n",
    "\n",
    "        return \"%d:%02d:%02d\" % (hour, minutes, seconds)\n"
   ]
  },
  {
   "cell_type": "code",
   "execution_count": 6,
   "metadata": {
    "ExecuteTime": {
     "end_time": "2020-08-17T10:15:09.049858Z",
     "start_time": "2020-08-17T10:15:08.935429Z"
    }
   },
   "outputs": [],
   "source": [
    "feature_columns = {\"item_column\":\"StockCode\", \n",
    "                   \"user_column\": \"CustomerID\", \n",
    "                   \"score_column\":\"Quantity\",\n",
    "                   \"item_description_column\":\"Description\"}\n",
    "rec = Recommendation(cleaned_retail, feature_columns=feature_columns, isPreprocess=False)"
   ]
  },
  {
   "cell_type": "code",
   "execution_count": 7,
   "metadata": {
    "ExecuteTime": {
     "end_time": "2020-08-17T10:25:14.532582Z",
     "start_time": "2020-08-17T10:15:09.085744Z"
    },
    "scrolled": true
   },
   "outputs": [
    {
     "name": "stderr",
     "output_type": "stream",
     "text": [
      "/home/dhruv.s/.local/lib/python3.7/site-packages/pandas/core/indexing.py:189: SettingWithCopyWarning: \n",
      "A value is trying to be set on a copy of a slice from a DataFrame\n",
      "\n",
      "See the caveats in the documentation: http://pandas.pydata.org/pandas-docs/stable/indexing.html#indexing-view-versus-copy\n",
      "  self._setitem_with_indexer(indexer, value)\n",
      "/home/dhruv.s/.local/lib/python3.7/site-packages/ipykernel_launcher.py:35: FutureWarning: specifying 'categories' or 'ordered' in .astype() is deprecated; pass a CategoricalDtype instead\n",
      "/home/dhruv.s/.local/lib/python3.7/site-packages/ipykernel_launcher.py:36: FutureWarning: specifying 'categories' or 'ordered' in .astype() is deprecated; pass a CategoricalDtype instead\n"
     ]
    },
    {
     "name": "stdout",
     "output_type": "stream",
     "text": [
      "Maximum possible sparsity for collaborative filtering approach is 99.5%.\n",
      "\n",
      "Sparsity is ~98.32, we can expect decent results.\n"
     ]
    },
    {
     "name": "stderr",
     "output_type": "stream",
     "text": [
      "WARNING:root:OpenBLAS detected. Its highly recommend to set the environment variable 'export OPENBLAS_NUM_THREADS=1' to disable its internal multithreading\n"
     ]
    },
    {
     "data": {
      "application/vnd.jupyter.widget-view+json": {
       "model_id": "bc906614e78a4041a0c92a4abc2cc487",
       "version_major": 2,
       "version_minor": 0
      },
      "text/plain": [
       "HBox(children=(FloatProgress(value=0.0, max=400.0), HTML(value='')))"
      ]
     },
     "metadata": {},
     "output_type": "display_data"
    },
    {
     "name": "stdout",
     "output_type": "stream",
     "text": [
      "\n",
      "Training completed...\n",
      " F1 Score:  0.18877596430165586  AUC ROC score:  0.5667569166639088\n"
     ]
    },
    {
     "data": {
      "text/plain": [
       "(0.18877596430165586, 0.5667569166639088)"
      ]
     },
     "execution_count": 7,
     "metadata": {},
     "output_type": "execute_result"
    }
   ],
   "source": [
    "rec.train(factors=240, alpha=15, iterations=400, Verbose=1, isEvaluate=True)"
   ]
  },
  {
   "cell_type": "code",
   "execution_count": 8,
   "metadata": {
    "ExecuteTime": {
     "end_time": "2020-08-17T21:04:48.637478Z",
     "start_time": "2020-08-17T10:25:14.568011Z"
    }
   },
   "outputs": [
    {
     "name": "stdout",
     "output_type": "stream",
     "text": [
      "Maximum possible sparsity for collaborative filtering approach is 99.5%.\n",
      "\n",
      "Sparsity is ~98.32, we can expect decent results.\n",
      "Steps:  1 / 96  | Combination:  (40, 15, 0.1, 200)  | Execution time:  0:04:21\n",
      "F1 Score:  0.0874307901650067  AUC Score:  0.5219459374131254\n",
      "\n",
      "Steps:  2 / 96  | Combination:  (40, 15, 0.1, 400)  | Execution time:  0:05:44\n",
      "F1 Score:  0.08770583360200558  AUC Score:  0.5220085821444161\n",
      "\n",
      "Steps:  3 / 96  | Combination:  (40, 15, 0.2, 200)  | Execution time:  0:04:29\n",
      "F1 Score:  0.08762151088305231  AUC Score:  0.5219952131165307\n",
      "\n",
      "Steps:  4 / 96  | Combination:  (40, 15, 0.2, 400)  | Execution time:  0:05:39\n",
      "F1 Score:  0.08792197380803328  AUC Score:  0.5220744449244732\n",
      "\n",
      "Steps:  5 / 96  | Combination:  (40, 15, 0.4, 200)  | Execution time:  0:04:26\n",
      "F1 Score:  0.08807388746351998  AUC Score:  0.5221237111390032\n",
      "\n",
      "Steps:  6 / 96  | Combination:  (40, 15, 0.4, 400)  | Execution time:  0:05:32\n",
      "F1 Score:  0.08832701544704495  AUC Score:  0.5221975427669825\n",
      "\n",
      "Steps:  7 / 96  | Combination:  (40, 35, 0.1, 200)  | Execution time:  0:04:19\n",
      "F1 Score:  0.07167255866517779  AUC Score:  0.5177672747773767\n",
      "\n",
      "Steps:  8 / 96  | Combination:  (40, 35, 0.1, 400)  | Execution time:  0:05:43\n",
      "F1 Score:  0.07236916293544092  AUC Score:  0.5179377324384628\n",
      "\n",
      "Steps:  9 / 96  | Combination:  (40, 35, 0.2, 200)  | Execution time:  0:04:24\n",
      "F1 Score:  0.07184848117819712  AUC Score:  0.5178161790284455\n",
      "\n",
      "Steps:  10 / 96  | Combination:  (40, 35, 0.2, 400)  | Execution time:  0:05:41\n",
      "F1 Score:  0.07273740119346483  AUC Score:  0.5180479073365899\n",
      "\n",
      "Steps:  11 / 96  | Combination:  (40, 35, 0.4, 200)  | Execution time:  0:04:34\n",
      "F1 Score:  0.07192599605524354  AUC Score:  0.5178244127709698\n",
      "\n",
      "Steps:  12 / 96  | Combination:  (40, 35, 0.4, 400)  | Execution time:  0:05:31\n",
      "F1 Score:  0.0729007274266139  AUC Score:  0.5180810172790865\n",
      "\n",
      "Steps:  13 / 96  | Combination:  (40, 70, 0.1, 200)  | Execution time:  0:04:31\n",
      "F1 Score:  0.06218227698965185  AUC Score:  0.5152795076027262\n",
      "\n",
      "Steps:  14 / 96  | Combination:  (40, 70, 0.1, 400)  | Execution time:  0:05:30\n",
      "F1 Score:  0.06308516916394978  AUC Score:  0.5155042372383641\n",
      "\n",
      "Steps:  15 / 96  | Combination:  (40, 70, 0.2, 200)  | Execution time:  0:04:28\n",
      "F1 Score:  0.06242512582729647  AUC Score:  0.5153436060502242\n",
      "\n",
      "Steps:  16 / 96  | Combination:  (40, 70, 0.2, 400)  | Execution time:  0:05:41\n",
      "F1 Score:  0.0638668941919782  AUC Score:  0.5157088707475298\n",
      "\n",
      "Steps:  17 / 96  | Combination:  (40, 70, 0.4, 200)  | Execution time:  0:04:22\n",
      "F1 Score:  0.06280339315881338  AUC Score:  0.5154398688114777\n",
      "\n",
      "Steps:  18 / 96  | Combination:  (40, 70, 0.4, 400)  | Execution time:  0:05:15\n",
      "F1 Score:  0.06416355775535987  AUC Score:  0.5157864804644451\n",
      "\n",
      "Steps:  19 / 96  | Combination:  (40, 95, 0.1, 200)  | Execution time:  0:04:30\n",
      "F1 Score:  0.059326610947407904  AUC Score:  0.5145333823629117\n",
      "\n",
      "Steps:  20 / 96  | Combination:  (40, 95, 0.1, 400)  | Execution time:  0:05:28\n",
      "F1 Score:  0.0603191973112123  AUC Score:  0.5148019138716954\n",
      "\n",
      "Steps:  21 / 96  | Combination:  (40, 95, 0.2, 200)  | Execution time:  0:04:33\n",
      "F1 Score:  0.05951608008925731  AUC Score:  0.514579087161743\n",
      "\n",
      "Steps:  22 / 96  | Combination:  (40, 95, 0.2, 400)  | Execution time:  0:05:43\n",
      "F1 Score:  0.060779544402220304  AUC Score:  0.5149033961616363\n",
      "\n",
      "Steps:  23 / 96  | Combination:  (40, 95, 0.4, 200)  | Execution time:  0:04:22\n",
      "F1 Score:  0.059463387419940936  AUC Score:  0.5145883467590546\n",
      "\n",
      "Steps:  24 / 96  | Combination:  (40, 95, 0.4, 400)  | Execution time:  0:05:39\n",
      "F1 Score:  0.060702665984109484  AUC Score:  0.5149008026949649\n",
      "\n",
      "Steps:  25 / 96  | Combination:  (100, 15, 0.1, 200)  | Execution time:  0:04:48\n",
      "F1 Score:  0.13882407345071113  AUC Score:  0.5368669520407515\n",
      "\n",
      "Steps:  26 / 96  | Combination:  (100, 15, 0.1, 400)  | Execution time:  0:06:16\n",
      "F1 Score:  0.1394582616000904  AUC Score:  0.5370798916584963\n",
      "\n",
      "Steps:  27 / 96  | Combination:  (100, 15, 0.2, 200)  | Execution time:  0:04:44\n",
      "F1 Score:  0.13901240478480154  AUC Score:  0.5369286251982012\n",
      "\n",
      "Steps:  28 / 96  | Combination:  (100, 15, 0.2, 400)  | Execution time:  0:06:15\n",
      "F1 Score:  0.1396649962882045  AUC Score:  0.5371550736882816\n",
      "\n",
      "Steps:  29 / 96  | Combination:  (100, 15, 0.4, 200)  | Execution time:  0:04:48\n",
      "F1 Score:  0.1383048968667187  AUC Score:  0.536709695645871\n",
      "\n",
      "Steps:  30 / 96  | Combination:  (100, 15, 0.4, 400)  | Execution time:  0:05:54\n",
      "F1 Score:  0.13943776912629374  AUC Score:  0.5370830019683609\n",
      "\n",
      "Steps:  31 / 96  | Combination:  (100, 35, 0.1, 200)  | Execution time:  0:04:53\n",
      "F1 Score:  0.12132441538794937  AUC Score:  0.5314230106053562\n",
      "\n",
      "Steps:  32 / 96  | Combination:  (100, 35, 0.1, 400)  | Execution time:  0:06:08\n",
      "F1 Score:  0.12303866976021106  AUC Score:  0.5319416765366629\n",
      "\n",
      "Steps:  33 / 96  | Combination:  (100, 35, 0.2, 200)  | Execution time:  0:04:48\n",
      "F1 Score:  0.12191632180115204  AUC Score:  0.5316029690874987\n",
      "\n",
      "Steps:  34 / 96  | Combination:  (100, 35, 0.2, 400)  | Execution time:  0:06:08\n",
      "F1 Score:  0.12384840785499272  AUC Score:  0.5321884029050921\n",
      "\n",
      "Steps:  35 / 96  | Combination:  (100, 35, 0.4, 200)  | Execution time:  0:04:47\n",
      "F1 Score:  0.12182182681259153  AUC Score:  0.5315715108637067\n",
      "\n",
      "Steps:  36 / 96  | Combination:  (100, 35, 0.4, 400)  | Execution time:  0:06:19\n",
      "F1 Score:  0.12344767266606828  AUC Score:  0.5320654910588695\n",
      "\n",
      "Steps:  37 / 96  | Combination:  (100, 70, 0.1, 200)  | Execution time:  0:04:52\n",
      "F1 Score:  0.11005361592840833  AUC Score:  0.5280577460750857\n",
      "\n",
      "Steps:  38 / 96  | Combination:  (100, 70, 0.1, 400)  | Execution time:  0:06:17\n",
      "F1 Score:  0.11403320769863617  AUC Score:  0.5292280471176269\n",
      "\n",
      "Steps:  39 / 96  | Combination:  (100, 70, 0.2, 200)  | Execution time:  0:04:46\n",
      "F1 Score:  0.11206669003756697  AUC Score:  0.5286526282234411\n",
      "\n",
      "Steps:  40 / 96  | Combination:  (100, 70, 0.2, 400)  | Execution time:  0:06:21\n",
      "F1 Score:  0.11444210596822911  AUC Score:  0.5293513541811963\n",
      "\n",
      "Steps:  41 / 96  | Combination:  (100, 70, 0.4, 200)  | Execution time:  0:04:48\n",
      "F1 Score:  0.1116854924901785  AUC Score:  0.5285407704111179\n",
      "\n",
      "Steps:  42 / 96  | Combination:  (100, 70, 0.4, 400)  | Execution time:  0:06:13\n",
      "F1 Score:  0.11456112962087796  AUC Score:  0.5293862473564213\n",
      "\n",
      "Steps:  43 / 96  | Combination:  (100, 95, 0.1, 200)  | Execution time:  0:04:52\n",
      "F1 Score:  0.1059920974066422  AUC Score:  0.5268810521466694\n",
      "\n",
      "Steps:  44 / 96  | Combination:  (100, 95, 0.1, 400)  | Execution time:  0:06:26\n",
      "F1 Score:  0.10999781724124613  AUC Score:  0.5280433851346813\n",
      "\n",
      "Steps:  45 / 96  | Combination:  (100, 95, 0.2, 200)  | Execution time:  0:04:50\n",
      "F1 Score:  0.10745434265518122  AUC Score:  0.5273001748894253\n",
      "\n",
      "Steps:  46 / 96  | Combination:  (100, 95, 0.2, 400)  | Execution time:  0:06:21\n",
      "F1 Score:  0.1119105148812601  AUC Score:  0.5286029904655422\n",
      "\n",
      "Steps:  47 / 96  | Combination:  (100, 95, 0.4, 200)  | Execution time:  0:04:45\n",
      "F1 Score:  0.10703996729225378  AUC Score:  0.5271746941175381\n",
      "\n",
      "Steps:  48 / 96  | Combination:  (100, 95, 0.4, 400)  | Execution time:  0:06:14\n",
      "F1 Score:  0.11102404650222887  AUC Score:  0.528324241133045\n",
      "\n",
      "Steps:  49 / 96  | Combination:  (250, 15, 0.1, 200)  | Execution time:  0:06:35\n",
      "F1 Score:  0.19649362230377676  AUC Score:  0.569878603260959\n",
      "\n",
      "Steps:  50 / 96  | Combination:  (250, 15, 0.1, 400)  | Execution time:  0:10:06\n",
      "F1 Score:  0.18687702639174406  AUC Score:  0.5683259329460075\n",
      "\n",
      "Steps:  51 / 96  | Combination:  (250, 15, 0.2, 200)  | Execution time:  0:06:37\n",
      "F1 Score:  0.19699575114146553  AUC Score:  0.5699073390499574\n",
      "\n",
      "Steps:  52 / 96  | Combination:  (250, 15, 0.2, 400)  | Execution time:  0:10:05\n",
      "F1 Score:  0.18741303578864416  AUC Score:  0.568393894513101\n",
      "\n",
      "Steps:  53 / 96  | Combination:  (250, 15, 0.4, 200)  | Execution time:  0:06:38\n",
      "F1 Score:  0.19772434219423465  AUC Score:  0.5699266010070795\n",
      "\n",
      "Steps:  54 / 96  | Combination:  (250, 15, 0.4, 400)  | Execution time:  0:09:59\n",
      "F1 Score:  0.18700042181962398  AUC Score:  0.567933138343243\n",
      "\n",
      "Steps:  55 / 96  | Combination:  (250, 35, 0.1, 200)  | Execution time:  0:06:39\n",
      "F1 Score:  0.19644829059552948  AUC Score:  0.5643761463044623\n",
      "\n",
      "Steps:  56 / 96  | Combination:  (250, 35, 0.1, 400)  | Execution time:  0:10:02\n",
      "F1 Score:  0.19226138240150978  AUC Score:  0.5658806131370812\n",
      "\n"
     ]
    },
    {
     "name": "stdout",
     "output_type": "stream",
     "text": [
      "Steps:  57 / 96  | Combination:  (250, 35, 0.2, 200)  | Execution time:  0:06:38\n",
      "F1 Score:  0.19042871498925887  AUC Score:  0.5624594358883784\n",
      "\n",
      "Steps:  58 / 96  | Combination:  (250, 35, 0.2, 400)  | Execution time:  0:10:07\n",
      "F1 Score:  0.18890916146638542  AUC Score:  0.5644924639999935\n",
      "\n",
      "Steps:  59 / 96  | Combination:  (250, 35, 0.4, 200)  | Execution time:  0:06:43\n",
      "F1 Score:  0.19340868685825402  AUC Score:  0.5632118303800061\n",
      "\n",
      "Steps:  60 / 96  | Combination:  (250, 35, 0.4, 400)  | Execution time:  0:10:09\n",
      "F1 Score:  0.18987610822608506  AUC Score:  0.564751241812949\n",
      "\n",
      "Steps:  61 / 96  | Combination:  (250, 70, 0.1, 200)  | Execution time:  0:06:44\n",
      "F1 Score:  0.19460805840853979  AUC Score:  0.5595576803814878\n",
      "\n",
      "Steps:  62 / 96  | Combination:  (250, 70, 0.1, 400)  | Execution time:  0:10:05\n",
      "F1 Score:  0.19087444350443117  AUC Score:  0.562104203642926\n",
      "\n",
      "Steps:  63 / 96  | Combination:  (250, 70, 0.2, 200)  | Execution time:  0:06:40\n",
      "F1 Score:  0.19285850779718686  AUC Score:  0.5593179078178958\n",
      "\n",
      "Steps:  64 / 96  | Combination:  (250, 70, 0.2, 400)  | Execution time:  0:10:08\n",
      "F1 Score:  0.18579963301691876  AUC Score:  0.5603474641095025\n",
      "\n",
      "Steps:  65 / 96  | Combination:  (250, 70, 0.4, 200)  | Execution time:  0:06:42\n",
      "F1 Score:  0.18852898889722938  AUC Score:  0.5580717805508653\n",
      "\n",
      "Steps:  66 / 96  | Combination:  (250, 70, 0.4, 400)  | Execution time:  0:10:07\n",
      "F1 Score:  0.1904010079351701  AUC Score:  0.5618331623919259\n",
      "\n",
      "Steps:  67 / 96  | Combination:  (250, 95, 0.1, 200)  | Execution time:  0:06:40\n",
      "F1 Score:  0.18858018234456508  AUC Score:  0.556298263931357\n",
      "\n",
      "Steps:  68 / 96  | Combination:  (250, 95, 0.1, 400)  | Execution time:  0:10:09\n",
      "F1 Score:  0.19321494297564334  AUC Score:  0.561271544403406\n",
      "\n",
      "Steps:  69 / 96  | Combination:  (250, 95, 0.2, 200)  | Execution time:  0:06:40\n",
      "F1 Score:  0.1866670069378096  AUC Score:  0.5559825852117115\n",
      "\n",
      "Steps:  70 / 96  | Combination:  (250, 95, 0.2, 400)  | Execution time:  0:10:05\n",
      "F1 Score:  0.19050897505533318  AUC Score:  0.5604614927930363\n",
      "\n",
      "Steps:  71 / 96  | Combination:  (250, 95, 0.4, 200)  | Execution time:  0:06:40\n",
      "F1 Score:  0.1841525001854352  AUC Score:  0.5552416621308367\n",
      "\n",
      "Steps:  72 / 96  | Combination:  (250, 95, 0.4, 400)  | Execution time:  0:10:06\n",
      "F1 Score:  0.18637860139795012  AUC Score:  0.5590612011870905\n",
      "\n",
      "Steps:  73 / 96  | Combination:  (400, 15, 0.1, 200)  | Execution time:  0:06:15\n",
      "F1 Score:  0.15786914143544156  AUC Score:  0.6142396886207695\n",
      "\n",
      "Steps:  74 / 96  | Combination:  (400, 15, 0.1, 400)  | Execution time:  0:09:18\n",
      "F1 Score:  0.13066184780175683  AUC Score:  0.610008565404373\n",
      "\n",
      "Steps:  75 / 96  | Combination:  (400, 15, 0.2, 200)  | Execution time:  0:06:12\n",
      "F1 Score:  0.16008360316418688  AUC Score:  0.6140769382219546\n",
      "\n",
      "Steps:  76 / 96  | Combination:  (400, 15, 0.2, 400)  | Execution time:  0:09:19\n",
      "F1 Score:  0.132752967934099  AUC Score:  0.6106067919187208\n",
      "\n",
      "Steps:  77 / 96  | Combination:  (400, 15, 0.4, 200)  | Execution time:  0:06:12\n",
      "F1 Score:  0.16537908827208134  AUC Score:  0.614851442553431\n",
      "\n",
      "Steps:  78 / 96  | Combination:  (400, 15, 0.4, 400)  | Execution time:  0:09:18\n",
      "F1 Score:  0.13775334037293138  AUC Score:  0.6119124697009141\n",
      "\n",
      "Steps:  79 / 96  | Combination:  (400, 35, 0.1, 200)  | Execution time:  0:06:06\n",
      "F1 Score:  0.20085771691684098  AUC Score:  0.605974465351537\n",
      "\n",
      "Steps:  80 / 96  | Combination:  (400, 35, 0.1, 400)  | Execution time:  0:09:14\n",
      "F1 Score:  0.16193880603448838  AUC Score:  0.6084596102620953\n",
      "\n",
      "Steps:  81 / 96  | Combination:  (400, 35, 0.2, 200)  | Execution time:  0:06:15\n",
      "F1 Score:  0.20083053425649358  AUC Score:  0.6058068644329361\n",
      "\n",
      "Steps:  82 / 96  | Combination:  (400, 35, 0.2, 400)  | Execution time:  0:09:10\n",
      "F1 Score:  0.16032581831382864  AUC Score:  0.6058536122036502\n",
      "\n",
      "Steps:  83 / 96  | Combination:  (400, 35, 0.4, 200)  | Execution time:  0:06:11\n",
      "F1 Score:  0.1997704115411426  AUC Score:  0.6037446387576959\n",
      "\n",
      "Steps:  84 / 96  | Combination:  (400, 35, 0.4, 400)  | Execution time:  0:09:06\n",
      "F1 Score:  0.17475997288821973  AUC Score:  0.6114963877615543\n",
      "\n",
      "Steps:  85 / 96  | Combination:  (400, 70, 0.1, 200)  | Execution time:  0:06:14\n",
      "F1 Score:  0.22257994774339626  AUC Score:  0.5907241190134386\n",
      "\n",
      "Steps:  86 / 96  | Combination:  (400, 70, 0.1, 400)  | Execution time:  0:09:10\n",
      "F1 Score:  0.20009020239543635  AUC Score:  0.6056014722428179\n",
      "\n",
      "Steps:  87 / 96  | Combination:  (400, 70, 0.2, 200)  | Execution time:  0:06:13\n",
      "F1 Score:  0.22858461519673745  AUC Score:  0.5936524869762314\n",
      "\n",
      "Steps:  88 / 96  | Combination:  (400, 70, 0.2, 400)  | Execution time:  0:09:17\n",
      "F1 Score:  0.19575156418773199  AUC Score:  0.6034468280945924\n",
      "\n",
      "Steps:  89 / 96  | Combination:  (400, 70, 0.4, 200)  | Execution time:  0:06:15\n",
      "F1 Score:  0.22548693870809117  AUC Score:  0.5924382026005816\n",
      "\n",
      "Steps:  90 / 96  | Combination:  (400, 70, 0.4, 400)  | Execution time:  0:09:08\n",
      "F1 Score:  0.1944715528895174  AUC Score:  0.6006884022672802\n",
      "\n",
      "Steps:  91 / 96  | Combination:  (400, 95, 0.1, 200)  | Execution time:  0:06:11\n",
      "F1 Score:  0.22965436424067168  AUC Score:  0.5852412124453005\n",
      "\n",
      "Steps:  92 / 96  | Combination:  (400, 95, 0.1, 400)  | Execution time:  0:09:09\n",
      "F1 Score:  0.21594592263195858  AUC Score:  0.6020348786560086\n",
      "\n",
      "Steps:  93 / 96  | Combination:  (400, 95, 0.2, 200)  | Execution time:  0:06:13\n",
      "F1 Score:  0.22773701202338487  AUC Score:  0.5849170041159146\n",
      "\n",
      "Steps:  94 / 96  | Combination:  (400, 95, 0.2, 400)  | Execution time:  0:09:05\n",
      "F1 Score:  0.2076732374455667  AUC Score:  0.5978857343129698\n",
      "\n",
      "Steps:  95 / 96  | Combination:  (400, 95, 0.4, 200)  | Execution time:  0:06:08\n",
      "F1 Score:  0.22693249042497513  AUC Score:  0.5845687125711433\n",
      "\n",
      "Steps:  96 / 96  | Combination:  (400, 95, 0.4, 400)  | Execution time:  0:09:02\n",
      "F1 Score:  0.2075893575823981  AUC Score:  0.5969667973461213\n",
      "\n",
      "Execution time:  10:39:33\n"
     ]
    },
    {
     "data": {
      "image/png": "[encoded data removed]",
      "text/plain": [
       "<Figure size 1080x504 with 1 Axes>"
      ]
     },
     "metadata": {
      "needs_background": "light"
     },
     "output_type": "display_data"
    }
   ],
   "source": [
    "#V2\n",
    "result =rec.grid_search(factors_list= [40, 100, 250, 400], \n",
    "                alpha_list=[15, 35, 70, 95], \n",
    "                regularisation_list=[ 0.1, 0.2, 0.4], \n",
    "                iter_list=[200, 400])"
   ]
  },
  {
   "cell_type": "code",
   "execution_count": 9,
   "metadata": {
    "ExecuteTime": {
     "end_time": "2020-08-18T04:07:37.932993Z",
     "start_time": "2020-08-18T04:07:37.915763Z"
    }
   },
   "outputs": [
    {
     "data": {
      "text/plain": [
       "{'factors': 400, 'alpha': 95, 'regularisation': 0.1, 'iterations': 200}"
      ]
     },
     "execution_count": 9,
     "metadata": {},
     "output_type": "execute_result"
    }
   ],
   "source": [
    "result"
   ]
  },
  {
   "cell_type": "code",
   "execution_count": 16,
   "metadata": {
    "ExecuteTime": {
     "end_time": "2020-07-30T05:47:23.932894Z",
     "start_time": "2020-07-30T05:47:23.928742Z"
    }
   },
   "outputs": [
    {
     "data": {
      "text/plain": [
       "422.6803722381592"
      ]
     },
     "execution_count": 16,
     "metadata": {},
     "output_type": "execute_result"
    }
   ],
   "source": [
    "time.time()-1596087621.249582"
   ]
  },
  {
   "cell_type": "code",
   "execution_count": 10,
   "metadata": {
    "ExecuteTime": {
     "end_time": "2020-07-30T05:38:37.985911Z",
     "start_time": "2020-07-30T05:09:03.097139Z"
    },
    "scrolled": true
   },
   "outputs": [
    {
     "name": "stdout",
     "output_type": "stream",
     "text": [
      "Maximum possible sparsity for collaborative filtering approach is 99.5%.\n",
      "\n",
      "Sparsity is ~98.32, we can expect decent results.\n",
      "Steps:  1 / 36  | Combination:  (100, 15, 0.1, 200)\n",
      "F1 Score:  0.1386808110992389  AUC Score:  0.5368153414053627\n",
      "\n",
      "Steps:  2 / 36  | Combination:  (100, 15, 0.2, 200)\n",
      "F1 Score:  0.13942591722649308  AUC Score:  0.5370509883699657\n",
      "\n",
      "Steps:  3 / 36  | Combination:  (100, 15, 0.4, 200)\n",
      "F1 Score:  0.13906620545512174  AUC Score:  0.536945015860063\n",
      "\n",
      "Steps:  4 / 36  | Combination:  (100, 35, 0.1, 200)\n",
      "F1 Score:  0.12202421628800242  AUC Score:  0.531637781086954\n",
      "\n",
      "Steps:  5 / 36  | Combination:  (100, 35, 0.2, 200)\n",
      "F1 Score:  0.12188625053677371  AUC Score:  0.531592544723335\n",
      "\n",
      "Steps:  6 / 36  | Combination:  (100, 35, 0.4, 200)\n",
      "F1 Score:  0.12187571295727569  AUC Score:  0.5315884790077312\n",
      "\n"
     ]
    },
    {
     "ename": "KeyboardInterrupt",
     "evalue": "",
     "output_type": "error",
     "traceback": [
      "\u001b[0;31m---------------------------------------------------------------------------\u001b[0m",
      "\u001b[0;31mKeyboardInterrupt\u001b[0m                         Traceback (most recent call last)",
      "\u001b[0;32m<ipython-input-10-23abdcfba840>\u001b[0m in \u001b[0;36m<module>\u001b[0;34m\u001b[0m\n\u001b[1;32m      9\u001b[0m                 \u001b[0malpha_list\u001b[0m\u001b[0;34m=\u001b[0m\u001b[0;34m[\u001b[0m\u001b[0;36m15\u001b[0m\u001b[0;34m,\u001b[0m \u001b[0;36m35\u001b[0m\u001b[0;34m,\u001b[0m \u001b[0;36m70\u001b[0m\u001b[0;34m,\u001b[0m \u001b[0;36m95\u001b[0m\u001b[0;34m]\u001b[0m\u001b[0;34m,\u001b[0m\u001b[0;34m\u001b[0m\u001b[0;34m\u001b[0m\u001b[0m\n\u001b[1;32m     10\u001b[0m                 \u001b[0mregularisation_list\u001b[0m\u001b[0;34m=\u001b[0m\u001b[0;34m[\u001b[0m \u001b[0;36m0.1\u001b[0m\u001b[0;34m,\u001b[0m \u001b[0;36m0.2\u001b[0m\u001b[0;34m,\u001b[0m \u001b[0;36m0.4\u001b[0m\u001b[0;34m]\u001b[0m\u001b[0;34m,\u001b[0m\u001b[0;34m\u001b[0m\u001b[0;34m\u001b[0m\u001b[0m\n\u001b[0;32m---> 11\u001b[0;31m                 iter_list=[200])\n\u001b[0m",
      "\u001b[0;32m<ipython-input-5-0d8dd6b34287>\u001b[0m in \u001b[0;36mgrid_search\u001b[0;34m(self, factors_list, alpha_list, regularisation_list, iter_list, isDisplayChart)\u001b[0m\n\u001b[1;32m    185\u001b[0m                                                    \u001b[0mnum_threads\u001b[0m\u001b[0;34m=\u001b[0m\u001b[0;36m1\u001b[0m\u001b[0;34m,\u001b[0m\u001b[0;34m\u001b[0m\u001b[0;34m\u001b[0m\u001b[0m\n\u001b[1;32m    186\u001b[0m                                                    \u001b[0misEvaluate\u001b[0m\u001b[0;34m=\u001b[0m\u001b[0;32mTrue\u001b[0m\u001b[0;34m,\u001b[0m\u001b[0;34m\u001b[0m\u001b[0;34m\u001b[0m\u001b[0m\n\u001b[0;32m--> 187\u001b[0;31m                                                    Verbose=0)\n\u001b[0m\u001b[1;32m    188\u001b[0m             \u001b[0mprint\u001b[0m\u001b[0;34m(\u001b[0m\u001b[0;34m\"Steps: \"\u001b[0m\u001b[0;34m,\u001b[0m\u001b[0midx\u001b[0m\u001b[0;34m+\u001b[0m\u001b[0;36m1\u001b[0m\u001b[0;34m,\u001b[0m\u001b[0;34m\"/\"\u001b[0m\u001b[0;34m,\u001b[0m\u001b[0mlen\u001b[0m\u001b[0;34m(\u001b[0m\u001b[0mall_combinations\u001b[0m\u001b[0;34m)\u001b[0m\u001b[0;34m,\u001b[0m\u001b[0;34m\" | Combination: \"\u001b[0m\u001b[0;34m,\u001b[0m \u001b[0mvalues\u001b[0m\u001b[0;34m)\u001b[0m\u001b[0;34m\u001b[0m\u001b[0;34m\u001b[0m\u001b[0m\n\u001b[1;32m    189\u001b[0m             \u001b[0mprint\u001b[0m\u001b[0;34m(\u001b[0m\u001b[0;34m\"F1 Score: \"\u001b[0m\u001b[0;34m,\u001b[0m \u001b[0m_f1_score\u001b[0m\u001b[0;34m,\u001b[0m \u001b[0;34m\" AUC Score: \"\u001b[0m\u001b[0;34m,\u001b[0m \u001b[0m_roc_auc_score\u001b[0m\u001b[0;34m)\u001b[0m\u001b[0;34m\u001b[0m\u001b[0;34m\u001b[0m\u001b[0m\n",
      "\u001b[0;32m<ipython-input-5-0d8dd6b34287>\u001b[0m in \u001b[0;36mtrain\u001b[0;34m(self, factors, alpha, regularization, iterations, num_threads, isEvaluate, Verbose)\u001b[0m\n\u001b[1;32m     86\u001b[0m         \u001b[0;32mif\u001b[0m \u001b[0mVerbose\u001b[0m\u001b[0;34m==\u001b[0m\u001b[0;36m1\u001b[0m\u001b[0;34m:\u001b[0m\u001b[0;34m\u001b[0m\u001b[0;34m\u001b[0m\u001b[0m\n\u001b[1;32m     87\u001b[0m             \u001b[0mshow_progress\u001b[0m\u001b[0;34m=\u001b[0m\u001b[0;32mTrue\u001b[0m\u001b[0;34m\u001b[0m\u001b[0;34m\u001b[0m\u001b[0m\n\u001b[0;32m---> 88\u001b[0;31m         \u001b[0mself\u001b[0m\u001b[0;34m.\u001b[0m\u001b[0mals\u001b[0m\u001b[0;34m.\u001b[0m\u001b[0mfit\u001b[0m\u001b[0;34m(\u001b[0m\u001b[0mtrain_set\u001b[0m\u001b[0;34m.\u001b[0m\u001b[0mtranspose\u001b[0m\u001b[0;34m(\u001b[0m\u001b[0;34m)\u001b[0m \u001b[0;34m*\u001b[0m \u001b[0malpha\u001b[0m\u001b[0;34m,\u001b[0m \u001b[0mshow_progress\u001b[0m\u001b[0;34m=\u001b[0m\u001b[0mshow_progress\u001b[0m\u001b[0;34m)\u001b[0m\u001b[0;34m\u001b[0m\u001b[0;34m\u001b[0m\u001b[0m\n\u001b[0m\u001b[1;32m     89\u001b[0m         \u001b[0;32mif\u001b[0m \u001b[0mVerbose\u001b[0m\u001b[0;34m==\u001b[0m\u001b[0;36m1\u001b[0m\u001b[0;34m:\u001b[0m\u001b[0;34m\u001b[0m\u001b[0;34m\u001b[0m\u001b[0m\n\u001b[1;32m     90\u001b[0m             \u001b[0mprint\u001b[0m\u001b[0;34m(\u001b[0m\u001b[0;34m\"Training completed...\"\u001b[0m\u001b[0;34m)\u001b[0m\u001b[0;34m\u001b[0m\u001b[0;34m\u001b[0m\u001b[0m\n",
      "\u001b[0;32m~/.local/lib/python3.7/site-packages/implicit/als.py\u001b[0m in \u001b[0;36mfit\u001b[0;34m(self, item_users, show_progress)\u001b[0m\n\u001b[1;32m    159\u001b[0m                        num_threads=self.num_threads)\n\u001b[1;32m    160\u001b[0m                 solver(Ciu, self.item_factors, self.user_factors, self.regularization,\n\u001b[0;32m--> 161\u001b[0;31m                        num_threads=self.num_threads)\n\u001b[0m\u001b[1;32m    162\u001b[0m                 \u001b[0mprogress\u001b[0m\u001b[0;34m.\u001b[0m\u001b[0mupdate\u001b[0m\u001b[0;34m(\u001b[0m\u001b[0;36m1\u001b[0m\u001b[0;34m)\u001b[0m\u001b[0;34m\u001b[0m\u001b[0;34m\u001b[0m\u001b[0m\n\u001b[1;32m    163\u001b[0m \u001b[0;34m\u001b[0m\u001b[0m\n",
      "\u001b[0;31mKeyboardInterrupt\u001b[0m: "
     ]
    }
   ],
   "source": [
    "# combination_dict={\n",
    "#     \"factors\" : [40, 100, 250, 400],\n",
    "#     \"alpha\" : [15, 35, 70, 95],\n",
    "#     \"regularisation\" : [0.1, 0.4, 0.04, 0.01],\n",
    "#     \"iterations\" : [200, 400],\n",
    "# }\n",
    "#V1\n",
    "result =rec.grid_search(factors_list= [100, 250, 400], \n",
    "                alpha_list=[15, 35, 70, 95], \n",
    "                regularisation_list=[ 0.1, 0.2, 0.4], \n",
    "                iter_list=[200])"
   ]
  },
  {
   "cell_type": "code",
   "execution_count": 10,
   "metadata": {
    "ExecuteTime": {
     "end_time": "2020-08-18T04:07:59.844176Z",
     "start_time": "2020-08-18T04:07:58.801071Z"
    },
    "scrolled": true
   },
   "outputs": [
    {
     "data": {
      "text/plain": [
       "(53345, 3664)"
      ]
     },
     "execution_count": 10,
     "metadata": {},
     "output_type": "execute_result"
    }
   ],
   "source": [
    "rec.als.user_factors[rec.user_inds].dot(rec.als.item_factors.T).shape"
   ]
  },
  {
   "cell_type": "code",
   "execution_count": 11,
   "metadata": {
    "ExecuteTime": {
     "end_time": "2020-08-18T04:08:01.627959Z",
     "start_time": "2020-08-18T04:08:01.624128Z"
    }
   },
   "outputs": [
    {
     "data": {
      "text/plain": [
       "{'factors': 400, 'alpha': 95, 'regularisation': 0.1, 'iterations': 200}"
      ]
     },
     "execution_count": 11,
     "metadata": {},
     "output_type": "execute_result"
    }
   ],
   "source": [
    "result"
   ]
  },
  {
   "cell_type": "code",
   "execution_count": 12,
   "metadata": {
    "ExecuteTime": {
     "end_time": "2020-08-18T04:08:03.463239Z",
     "start_time": "2020-08-18T04:08:03.327785Z"
    }
   },
   "outputs": [
    {
     "ename": "NameError",
     "evalue": "name 'zro_idx' is not defined",
     "output_type": "error",
     "traceback": [
      "\u001b[0;31m---------------------------------------------------------------------------\u001b[0m",
      "\u001b[0;31mNameError\u001b[0m                                 Traceback (most recent call last)",
      "\u001b[0;32m<ipython-input-12-07333f00e0fe>\u001b[0m in \u001b[0;36m<module>\u001b[0;34m\u001b[0m\n\u001b[0;32m----> 1\u001b[0;31m \u001b[0mnp\u001b[0m\u001b[0;34m.\u001b[0m\u001b[0munique\u001b[0m\u001b[0;34m(\u001b[0m\u001b[0mzro_idx\u001b[0m\u001b[0;34m[\u001b[0m\u001b[0;36m0\u001b[0m\u001b[0;34m]\u001b[0m\u001b[0;34m)\u001b[0m\u001b[0;34m.\u001b[0m\u001b[0mshape\u001b[0m\u001b[0;34m\u001b[0m\u001b[0;34m\u001b[0m\u001b[0m\n\u001b[0m",
      "\u001b[0;31mNameError\u001b[0m: name 'zro_idx' is not defined"
     ]
    }
   ],
   "source": [
    "np.unique(zro_idx[0]).shape"
   ]
  },
  {
   "cell_type": "code",
   "execution_count": 13,
   "metadata": {
    "ExecuteTime": {
     "end_time": "2020-08-18T04:08:13.988628Z",
     "start_time": "2020-08-18T04:08:04.069267Z"
    }
   },
   "outputs": [],
   "source": [
    "zro_idx = np.where(rec.training_set[rec.user_inds].toarray() == 0)\n",
    "\n",
    "pred = rec.als.user_factors[rec.user_inds].dot(rec.als.item_factors.T)[zro_idx]\n",
    "pred_bin = np.ones(shape=pred.shape)\n",
    "pred_bin[np.where(pred<0.5)] = 0\n",
    "\n",
    "test_pred = rec.test_set[rec.user_inds].toarray()[zro_idx]"
   ]
  },
  {
   "cell_type": "code",
   "execution_count": 14,
   "metadata": {
    "ExecuteTime": {
     "end_time": "2020-08-18T04:08:16.348968Z",
     "start_time": "2020-08-18T04:08:16.339359Z"
    }
   },
   "outputs": [
    {
     "data": {
      "text/plain": [
       "(187811608,)"
      ]
     },
     "execution_count": 14,
     "metadata": {},
     "output_type": "execute_result"
    }
   ],
   "source": [
    "test_pred.shape"
   ]
  },
  {
   "cell_type": "code",
   "execution_count": 15,
   "metadata": {
    "ExecuteTime": {
     "end_time": "2020-08-18T04:11:19.664526Z",
     "start_time": "2020-08-18T04:08:17.585469Z"
    }
   },
   "outputs": [
    {
     "data": {
      "text/plain": [
       "0.2075893575823981"
      ]
     },
     "execution_count": 15,
     "metadata": {},
     "output_type": "execute_result"
    }
   ],
   "source": [
    "roc_auc_score(pred_bin, test_pred)\n",
    "\n",
    "f1_score(test_pred, pred_bin)"
   ]
  },
  {
   "cell_type": "code",
   "execution_count": null,
   "metadata": {},
   "outputs": [],
   "source": []
  },
  {
   "cell_type": "code",
   "execution_count": null,
   "metadata": {},
   "outputs": [],
   "source": []
  },
  {
   "cell_type": "code",
   "execution_count": null,
   "metadata": {},
   "outputs": [],
   "source": []
  },
  {
   "cell_type": "code",
   "execution_count": 28,
   "metadata": {
    "ExecuteTime": {
     "end_time": "2020-08-25T08:48:01.184170Z",
     "start_time": "2020-08-25T08:48:01.141428Z"
    },
    "scrolled": false
   },
   "outputs": [
    {
     "name": "stdout",
     "output_type": "stream",
     "text": [
      "15624.0\n"
     ]
    },
    {
     "data": {
      "text/html": [
       "<div>\n",
       "<style scoped>\n",
       "    .dataframe tbody tr th:only-of-type {\n",
       "        vertical-align: middle;\n",
       "    }\n",
       "\n",
       "    .dataframe tbody tr th {\n",
       "        vertical-align: top;\n",
       "    }\n",
       "\n",
       "    .dataframe thead th {\n",
       "        text-align: right;\n",
       "    }\n",
       "</style>\n",
       "<table border=\"1\" class=\"dataframe\">\n",
       "  <thead>\n",
       "    <tr style=\"text-align: right;\">\n",
       "      <th></th>\n",
       "      <th>StockCode</th>\n",
       "      <th>Description</th>\n",
       "      <th>Score</th>\n",
       "    </tr>\n",
       "  </thead>\n",
       "  <tbody>\n",
       "    <tr>\n",
       "      <th>0</th>\n",
       "      <td>21754</td>\n",
       "      <td>HOME BUILDING BLOCK WORD</td>\n",
       "      <td>0.5604762</td>\n",
       "    </tr>\n",
       "    <tr>\n",
       "      <th>1</th>\n",
       "      <td>21927</td>\n",
       "      <td>BLUE/CREAM STRIPE CUSHION COVER</td>\n",
       "      <td>0.55758876</td>\n",
       "    </tr>\n",
       "    <tr>\n",
       "      <th>2</th>\n",
       "      <td>21621</td>\n",
       "      <td>VINTAGE UNION JACK BUNTING</td>\n",
       "      <td>0.5185416</td>\n",
       "    </tr>\n",
       "    <tr>\n",
       "      <th>3</th>\n",
       "      <td>22694</td>\n",
       "      <td>WICKER STAR</td>\n",
       "      <td>0.5104734</td>\n",
       "    </tr>\n",
       "    <tr>\n",
       "      <th>4</th>\n",
       "      <td>46000S</td>\n",
       "      <td>POLYESTER FILLER PAD 40x40cm</td>\n",
       "      <td>0.47009432</td>\n",
       "    </tr>\n",
       "    <tr>\n",
       "      <th>5</th>\n",
       "      <td>22286</td>\n",
       "      <td>DECORATION , WOBBLY RABBIT , METAL</td>\n",
       "      <td>0.44183463</td>\n",
       "    </tr>\n",
       "    <tr>\n",
       "      <th>6</th>\n",
       "      <td>22457</td>\n",
       "      <td>NATURAL SLATE HEART CHALKBOARD</td>\n",
       "      <td>0.43753558</td>\n",
       "    </tr>\n",
       "    <tr>\n",
       "      <th>7</th>\n",
       "      <td>82578</td>\n",
       "      <td>KITCHEN METAL SIGN</td>\n",
       "      <td>0.42512336</td>\n",
       "    </tr>\n",
       "    <tr>\n",
       "      <th>8</th>\n",
       "      <td>22189</td>\n",
       "      <td>CREAM HEART CARD HOLDER</td>\n",
       "      <td>0.41752598</td>\n",
       "    </tr>\n",
       "    <tr>\n",
       "      <th>9</th>\n",
       "      <td>82581</td>\n",
       "      <td>TOILET METAL SIGN</td>\n",
       "      <td>0.41695976</td>\n",
       "    </tr>\n",
       "  </tbody>\n",
       "</table>\n",
       "</div>"
      ],
      "text/plain": [
       "  StockCode                          Description       Score\n",
       "0     21754             HOME BUILDING BLOCK WORD   0.5604762\n",
       "1     21927     BLUE/CREAM STRIPE CUSHION COVER   0.55758876\n",
       "2     21621           VINTAGE UNION JACK BUNTING   0.5185416\n",
       "3     22694                         WICKER STAR    0.5104734\n",
       "4    46000S         POLYESTER FILLER PAD 40x40cm  0.47009432\n",
       "5     22286  DECORATION , WOBBLY RABBIT , METAL   0.44183463\n",
       "6     22457      NATURAL SLATE HEART CHALKBOARD   0.43753558\n",
       "7     82578                   KITCHEN METAL SIGN  0.42512336\n",
       "8     22189              CREAM HEART CARD HOLDER  0.41752598\n",
       "9     82581                    TOILET METAL SIGN  0.41695976"
      ]
     },
     "execution_count": 28,
     "metadata": {},
     "output_type": "execute_result"
    }
   ],
   "source": [
    "user_code =rec.user[np.random.randint(0,len(rec.user))]\n",
    "print(user_code)\n",
    "item, score, desc = rec.get_recommendation(user_code, is_lookup_items=True)\n",
    "pd.DataFrame(data=np.transpose([item, desc, score]), columns=[\"StockCode\",\"Description\", \"Score\"])"
   ]
  },
  {
   "cell_type": "code",
   "execution_count": 23,
   "metadata": {
    "ExecuteTime": {
     "end_time": "2020-08-25T08:47:49.056397Z",
     "start_time": "2020-08-25T08:47:49.017672Z"
    }
   },
   "outputs": [
    {
     "name": "stdout",
     "output_type": "stream",
     "text": [
      "21479\n"
     ]
    },
    {
     "data": {
      "text/html": [
       "<div>\n",
       "<style scoped>\n",
       "    .dataframe tbody tr th:only-of-type {\n",
       "        vertical-align: middle;\n",
       "    }\n",
       "\n",
       "    .dataframe tbody tr th {\n",
       "        vertical-align: top;\n",
       "    }\n",
       "\n",
       "    .dataframe thead th {\n",
       "        text-align: right;\n",
       "    }\n",
       "</style>\n",
       "<table border=\"1\" class=\"dataframe\">\n",
       "  <thead>\n",
       "    <tr style=\"text-align: right;\">\n",
       "      <th></th>\n",
       "      <th>StockCode</th>\n",
       "      <th>Description</th>\n",
       "      <th>Score</th>\n",
       "    </tr>\n",
       "  </thead>\n",
       "  <tbody>\n",
       "    <tr>\n",
       "      <th>0</th>\n",
       "      <td>21479</td>\n",
       "      <td>WHITE SKULL HOT WATER BOTTLE</td>\n",
       "      <td>0.6207515</td>\n",
       "    </tr>\n",
       "    <tr>\n",
       "      <th>1</th>\n",
       "      <td>23356</td>\n",
       "      <td>LOVE HOT WATER BOTTLE</td>\n",
       "      <td>0.16928579</td>\n",
       "    </tr>\n",
       "    <tr>\n",
       "      <th>2</th>\n",
       "      <td>84029E</td>\n",
       "      <td>RED WOOLLY HOTTIE WHITE HEART.</td>\n",
       "      <td>0.16812539</td>\n",
       "    </tr>\n",
       "    <tr>\n",
       "      <th>3</th>\n",
       "      <td>84029G</td>\n",
       "      <td>KNITTED UNION FLAG HOT WATER BOTTLE</td>\n",
       "      <td>0.1670684</td>\n",
       "    </tr>\n",
       "    <tr>\n",
       "      <th>4</th>\n",
       "      <td>21930</td>\n",
       "      <td>JUMBO STORAGE BAG SKULLS</td>\n",
       "      <td>0.16644563</td>\n",
       "    </tr>\n",
       "    <tr>\n",
       "      <th>5</th>\n",
       "      <td>21481</td>\n",
       "      <td>FAWN BLUE HOT WATER BOTTLE</td>\n",
       "      <td>0.1655542</td>\n",
       "    </tr>\n",
       "    <tr>\n",
       "      <th>6</th>\n",
       "      <td>22113</td>\n",
       "      <td>GREY HEART HOT WATER BOTTLE</td>\n",
       "      <td>0.14930701</td>\n",
       "    </tr>\n",
       "    <tr>\n",
       "      <th>7</th>\n",
       "      <td>35591T</td>\n",
       "      <td>TURQUOISE CHRISTMAS TREE</td>\n",
       "      <td>0.13540027</td>\n",
       "    </tr>\n",
       "    <tr>\n",
       "      <th>8</th>\n",
       "      <td>21484</td>\n",
       "      <td>CHICK GREY HOT WATER BOTTLE</td>\n",
       "      <td>0.13215126</td>\n",
       "    </tr>\n",
       "    <tr>\n",
       "      <th>9</th>\n",
       "      <td>22111</td>\n",
       "      <td>SCOTTIE DOG HOT WATER BOTTLE</td>\n",
       "      <td>0.13066581</td>\n",
       "    </tr>\n",
       "  </tbody>\n",
       "</table>\n",
       "</div>"
      ],
      "text/plain": [
       "  StockCode                          Description       Score\n",
       "0     21479        WHITE SKULL HOT WATER BOTTLE    0.6207515\n",
       "1     23356                LOVE HOT WATER BOTTLE  0.16928579\n",
       "2    84029E       RED WOOLLY HOTTIE WHITE HEART.  0.16812539\n",
       "3    84029G  KNITTED UNION FLAG HOT WATER BOTTLE   0.1670684\n",
       "4     21930             JUMBO STORAGE BAG SKULLS  0.16644563\n",
       "5     21481           FAWN BLUE HOT WATER BOTTLE   0.1655542\n",
       "6     22113          GREY HEART HOT WATER BOTTLE  0.14930701\n",
       "7    35591T            TURQUOISE CHRISTMAS TREE   0.13540027\n",
       "8     21484          CHICK GREY HOT WATER BOTTLE  0.13215126\n",
       "9     22111         SCOTTIE DOG HOT WATER BOTTLE  0.13066581"
      ]
     },
     "execution_count": 23,
     "metadata": {},
     "output_type": "execute_result"
    }
   ],
   "source": [
    "item_code =rec.item[np.random.randint(0,len(rec.item))]\n",
    "print(item_code)\n",
    "item, score, desc = rec.get_similar_items(item_code, is_lookup_items=True, N=10)\n",
    "pd.DataFrame(data=np.transpose([item, desc, score]), columns=[\"StockCode\",\"Description\", \"Score\"])"
   ]
  },
  {
   "cell_type": "code",
   "execution_count": 13,
   "metadata": {
    "ExecuteTime": {
     "end_time": "2020-07-27T10:10:33.189945Z",
     "start_time": "2020-07-27T10:10:33.179131Z"
    }
   },
   "outputs": [
    {
     "data": {
      "text/plain": [
       "271"
      ]
     },
     "execution_count": 13,
     "metadata": {},
     "output_type": "execute_result"
    }
   ],
   "source": []
  },
  {
   "cell_type": "code",
   "execution_count": 38,
   "metadata": {
    "ExecuteTime": {
     "end_time": "2020-07-28T05:11:56.309560Z",
     "start_time": "2020-07-28T05:11:56.304949Z"
    }
   },
   "outputs": [],
   "source": [
    "\n",
    "\n",
    "combination_dict={\n",
    "    \"factors\" : [40, 100, 250, 400],\n",
    "    \"alpha\" : [15, 35, 70, 95],\n",
    "    \"regularisation\" : [0.1, 0.4, 0.04, 0.01],\n",
    "    \"iterations\" : [200, 400],\n",
    "}"
   ]
  },
  {
   "cell_type": "code",
   "execution_count": 46,
   "metadata": {
    "ExecuteTime": {
     "end_time": "2020-07-28T05:41:20.446656Z",
     "start_time": "2020-07-28T05:41:20.436977Z"
    }
   },
   "outputs": [],
   "source": [
    "all_combinations = list(itertools.product(*list(combination_dict.values())))"
   ]
  },
  {
   "cell_type": "code",
   "execution_count": 29,
   "metadata": {
    "ExecuteTime": {
     "end_time": "2020-07-27T13:04:06.355572Z",
     "start_time": "2020-07-27T13:04:06.351909Z"
    }
   },
   "outputs": [],
   "source": [
    "def grid_search(self, factors_list, alpha_list, regularisation_list, iter_list, isDisplayChart=True):\n",
    "    self.combination_dict = {\n",
    "            \"factors\" : factors_list,\n",
    "            \"alpha\" : alpha_list,\n",
    "            \"regularisation\" : regularisation_list,\n",
    "            \"iterations\" : iter_list,\n",
    "        }\n",
    "    all_combinations = list(itertools.product(*list(combination_dict.values())))\n",
    "    score_list=[]\n",
    "    for idx, values in tqdm(enumerate(all_combinations)):\n",
    "        _f1_score, _roc_auc_score=self.train(self, \n",
    "                                               values[0], \n",
    "                                               values[1], \n",
    "                                               regularization=values[2], \n",
    "                                               iterations=values[3], \n",
    "                                               num_threads=1, \n",
    "                                               isEvaluate=True, \n",
    "                                               Verbose=0)\n",
    "        score_list.append(_f1_score)\n",
    "    if isDisplayChart:\n",
    "        plt.figure(figsize=(15, 7))\n",
    "        sns.barplot([\"comb_\"+str(v) for v in range(len(score_list))], score_list)\n",
    "        plt.title(\"Grid Search \")\n",
    "        plt.xlabel(\"Combinations\")\n",
    "        _=plt.ylabel(\"F1 Score\")\n",
    "    result = all_combinations[score_list.index(max(score_list))]\n",
    "    best_combinations_dict={\n",
    "            \"factors\" : result[0],\n",
    "            \"alpha\" : result[1],\n",
    "            \"regularisation\" : result[2],\n",
    "            \"iterations\" : result[3],\n",
    "        }\n",
    "    return best_combinations_dict"
   ]
  },
  {
   "cell_type": "code",
   "execution_count": 33,
   "metadata": {
    "ExecuteTime": {
     "end_time": "2020-07-27T13:06:50.438711Z",
     "start_time": "2020-07-27T13:06:50.423784Z"
    }
   },
   "outputs": [
    {
     "data": {
      "text/plain": [
       "[('a', 1, 3),\n",
       " ('a', 1, 11),\n",
       " ('a', 1, 44),\n",
       " ('a', 1, 55),\n",
       " ('a', 2, 3),\n",
       " ('a', 2, 11),\n",
       " ('a', 2, 44),\n",
       " ('a', 2, 55),\n",
       " ('b', 1, 3),\n",
       " ('b', 1, 11),\n",
       " ('b', 1, 44),\n",
       " ('b', 1, 55),\n",
       " ('b', 2, 3),\n",
       " ('b', 2, 11),\n",
       " ('b', 2, 44),\n",
       " ('b', 2, 55),\n",
       " ('c', 1, 3),\n",
       " ('c', 1, 11),\n",
       " ('c', 1, 44),\n",
       " ('c', 1, 55),\n",
       " ('c', 2, 3),\n",
       " ('c', 2, 11),\n",
       " ('c', 2, 44),\n",
       " ('c', 2, 55)]"
      ]
     },
     "execution_count": 33,
     "metadata": {},
     "output_type": "execute_result"
    }
   ],
   "source": [
    "list1=['a','b','c']\n",
    "list2=[1,2]\n",
    "list3=[3,11,44,55]\n",
    "\n",
    "list(itertools.product(*[list1, list2, list3]))\n",
    "# itertools.permutations(*)"
   ]
  },
  {
   "cell_type": "code",
   "execution_count": 45,
   "metadata": {
    "ExecuteTime": {
     "end_time": "2020-07-28T05:37:26.870520Z",
     "start_time": "2020-07-28T05:37:26.571947Z"
    }
   },
   "outputs": [
    {
     "data": {
      "text/plain": [
       "Text(0, 0.5, 'F1 Score')"
      ]
     },
     "execution_count": 45,
     "metadata": {},
     "output_type": "execute_result"
    },
    {
     "data": {
      "image/png": "[encoded data removed]",
      "text/plain": [
       "<Figure size 1080x504 with 1 Axes>"
      ]
     },
     "metadata": {
      "needs_background": "light"
     },
     "output_type": "display_data"
    }
   ],
   "source": [
    "\n",
    "\n",
    "score_list=[0.2, 0.04, 0.5, 0.3, 0.07, 0.21]\n",
    "plt.figure(figsize=(15, 7))\n",
    "sns.barplot([\"comb_\"+str(v) for v in range(len(score_list))], score_list)\n",
    "plt.title(\"Grid Search \")\n",
    "plt.xlabel(\"Combinations\")\n",
    "plt.ylabel(\"F1 Score\")"
   ]
  },
  {
   "cell_type": "code",
   "execution_count": 49,
   "metadata": {
    "ExecuteTime": {
     "end_time": "2020-07-28T05:42:05.662475Z",
     "start_time": "2020-07-28T05:42:05.657339Z"
    }
   },
   "outputs": [
    {
     "data": {
      "text/plain": [
       "(40, 15, 0.4, 200)"
      ]
     },
     "execution_count": 49,
     "metadata": {},
     "output_type": "execute_result"
    }
   ],
   "source": [
    "all_combinations[score_list.index(max(score_list))]"
   ]
  },
  {
   "cell_type": "code",
   "execution_count": null,
   "metadata": {},
   "outputs": [],
   "source": []
  }
 ],
 "metadata": {
  "kernelspec": {
   "display_name": "Python 3",
   "language": "python",
   "name": "python3"
  },
  "language_info": {
   "codemirror_mode": {
    "name": "ipython",
    "version": 3
   },
   "file_extension": ".py",
   "mimetype": "text/x-python",
   "name": "python",
   "nbconvert_exporter": "python",
   "pygments_lexer": "ipython3",
   "version": "3.7.8"
  },
  "varInspector": {
   "cols": {
    "lenName": 16,
    "lenType": 16,
    "lenVar": 40
   },
   "kernels_config": {
    "python": {
     "delete_cmd_postfix": "",
     "delete_cmd_prefix": "del ",
     "library": "var_list.py",
     "varRefreshCmd": "print(var_dic_list())"
    },
    "r": {
     "delete_cmd_postfix": ") ",
     "delete_cmd_prefix": "rm(",
     "library": "var_list.r",
     "varRefreshCmd": "cat(var_dic_list()) "
    }
   },
   "types_to_exclude": [
    "module",
    "function",
    "builtin_function_or_method",
    "instance",
    "_Feature"
   ],
   "window_display": false
  }
 },
 "nbformat": 4,
 "nbformat_minor": 4
}
